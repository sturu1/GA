{
  "nbformat": 4,
  "nbformat_minor": 0,
  "metadata": {
    "colab": {
      "name": "GA연습.ipynb",
      "provenance": [],
      "mount_file_id": "https://github.com/sturu1/GA/blob/master/GA%EC%97%B0%EC%8A%B5.ipynb",
      "authorship_tag": "ABX9TyN5dsv0KvmHOW9Vfwjgv5CB",
      "include_colab_link": true
    },
    "kernelspec": {
      "name": "python3",
      "display_name": "Python 3"
    }
  },
  "cells": [
    {
      "cell_type": "markdown",
      "metadata": {
        "id": "view-in-github",
        "colab_type": "text"
      },
      "source": [
        "<a href=\"https://colab.research.google.com/github/sturu1/GA/blob/master/GA%EC%97%B0%EC%8A%B5.ipynb\" target=\"_parent\"><img src=\"https://colab.research.google.com/assets/colab-badge.svg\" alt=\"Open In Colab\"/></a>"
      ]
    },
    {
      "cell_type": "code",
      "metadata": {
        "id": "dWv1wtVL1wk6",
        "colab_type": "code",
        "colab": {}
      },
      "source": [
        "import pandas as pd\n",
        "import numpy as np\n",
        "import matplotlib.pyplot as plt\n",
        "import csv\n",
        "\n",
        "#Total weight capacity: 13743, item, weight, profit"
      ],
      "execution_count": 15,
      "outputs": []
    },
    {
      "cell_type": "code",
      "metadata": {
        "id": "XrSXHcqf2OpU",
        "colab_type": "code",
        "colab": {}
      },
      "source": [
        "df = open('/content/drive/My Drive/GA.csv', 'r', encoding='utf-8')\n",
        "rdr = csv.reader(df)\n",
        "for line in rdr:\n",
        "    print(line)"
      ],
      "execution_count": null,
      "outputs": []
    },
    {
      "cell_type": "code",
      "metadata": {
        "id": "dIcbw5qmIWGB",
        "colab_type": "code",
        "colab": {}
      },
      "source": [
        "Total_Profit = 0\n",
        "Total_Weight = 0"
      ],
      "execution_count": null,
      "outputs": []
    },
    {
      "cell_type": "code",
      "metadata": {
        "id": "WpklwDIk2cVB",
        "colab_type": "code",
        "colab": {}
      },
      "source": [
        "def get_Max_Profit(df_list, capacity):\n",
        "    df_list = sorted(df_list, key=lambda x: x[1] / x[0], reverse=True) #??\n",
        "    details = list()\n",
        "    \n",
        "    for df in df_list:\n",
        "        if Total_Weight > Total_Weight_capacity:\n",
        "            Total_Weight = 0\n",
        "        else:\n",
        "            fraction = capacity / df[0]\n",
        "            Total_Profit += df[1] * fraction\n",
        "            details.append([df[0], df[1], fraction])\n",
        "            break\n",
        "    return Total_Profit, details"
      ],
      "execution_count": 24,
      "outputs": []
    },
    {
      "cell_type": "code",
      "metadata": {
        "id": "9gybXacF46mS",
        "colab_type": "code",
        "colab": {}
      },
      "source": [
        "get_Max_Profit(df_list, 500)#??"
      ],
      "execution_count": null,
      "outputs": []
    },
    {
      "cell_type": "code",
      "metadata": {
        "id": "T_YCKUg9DSNA",
        "colab_type": "code",
        "colab": {}
      },
      "source": [
        ""
      ],
      "execution_count": null,
      "outputs": []
    }
  ]
}