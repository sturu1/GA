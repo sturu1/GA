{
  "nbformat": 4,
  "nbformat_minor": 0,
  "metadata": {
    "colab": {
      "name": "GA연습.ipynb",
      "provenance": [],
      "mount_file_id": "https://github.com/sturu1/GA/blob/master/GA%EC%97%B0%EC%8A%B5.ipynb",
      "authorship_tag": "ABX9TyPG8ijtx79Co5JFq28ktpOj",
      "include_colab_link": true
    },
    "kernelspec": {
      "name": "python3",
      "display_name": "Python 3"
    }
  },
  "cells": [
    {
      "cell_type": "markdown",
      "metadata": {
        "id": "view-in-github",
        "colab_type": "text"
      },
      "source": [
        "<a href=\"https://colab.research.google.com/github/sturu1/GA/blob/master/GA%EC%97%B0%EC%8A%B5.ipynb\" target=\"_parent\"><img src=\"https://colab.research.google.com/assets/colab-badge.svg\" alt=\"Open In Colab\"/></a>"
      ]
    },
    {
      "cell_type": "code",
      "metadata": {
        "id": "dWv1wtVL1wk6",
        "colab_type": "code",
        "colab": {}
      },
      "source": [
        "import pandas as pd\n",
        "import numpy as np\n",
        "import matplotlib.pyplot as plt\n",
        "import csv\n",
        "\n",
        "#Total weight capacity: 13743, item, weight, profit"
      ],
      "execution_count": 29,
      "outputs": []
    },
    {
      "cell_type": "code",
      "metadata": {
        "id": "XrSXHcqf2OpU",
        "colab_type": "code",
        "colab": {
          "base_uri": "https://localhost:8080/",
          "height": 204
        },
        "outputId": "0a02d287-3591-4915-b6bb-ee82812f9843"
      },
      "source": [
        "df = pd.read_csv(\"/content/drive/My Drive/GA.csv\", sep=\",\")\n",
        "df.head()"
      ],
      "execution_count": 33,
      "outputs": [
        {
          "output_type": "execute_result",
          "data": {
            "text/html": [
              "<div>\n",
              "<style scoped>\n",
              "    .dataframe tbody tr th:only-of-type {\n",
              "        vertical-align: middle;\n",
              "    }\n",
              "\n",
              "    .dataframe tbody tr th {\n",
              "        vertical-align: top;\n",
              "    }\n",
              "\n",
              "    .dataframe thead th {\n",
              "        text-align: right;\n",
              "    }\n",
              "</style>\n",
              "<table border=\"1\" class=\"dataframe\">\n",
              "  <thead>\n",
              "    <tr style=\"text-align: right;\">\n",
              "      <th></th>\n",
              "      <th>item</th>\n",
              "      <th>weight</th>\n",
              "      <th>profit</th>\n",
              "    </tr>\n",
              "  </thead>\n",
              "  <tbody>\n",
              "    <tr>\n",
              "      <th>0</th>\n",
              "      <td>1</td>\n",
              "      <td>68.0</td>\n",
              "      <td>100.0</td>\n",
              "    </tr>\n",
              "    <tr>\n",
              "      <th>1</th>\n",
              "      <td>2</td>\n",
              "      <td>80.0</td>\n",
              "      <td>53.0</td>\n",
              "    </tr>\n",
              "    <tr>\n",
              "      <th>2</th>\n",
              "      <td>3</td>\n",
              "      <td>93.0</td>\n",
              "      <td>48.0</td>\n",
              "    </tr>\n",
              "    <tr>\n",
              "      <th>3</th>\n",
              "      <td>4</td>\n",
              "      <td>14.0</td>\n",
              "      <td>38.0</td>\n",
              "    </tr>\n",
              "    <tr>\n",
              "      <th>4</th>\n",
              "      <td>5</td>\n",
              "      <td>89.0</td>\n",
              "      <td>72.0</td>\n",
              "    </tr>\n",
              "  </tbody>\n",
              "</table>\n",
              "</div>"
            ],
            "text/plain": [
              "  item  weight  profit\n",
              "0    1    68.0   100.0\n",
              "1    2    80.0    53.0\n",
              "2    3    93.0    48.0\n",
              "3    4    14.0    38.0\n",
              "4    5    89.0    72.0"
            ]
          },
          "metadata": {
            "tags": []
          },
          "execution_count": 33
        }
      ]
    },
    {
      "cell_type": "code",
      "metadata": {
        "id": "dIcbw5qmIWGB",
        "colab_type": "code",
        "colab": {}
      },
      "source": [
        "Total_Profit = 0\n",
        "Total_Weight = 0"
      ],
      "execution_count": null,
      "outputs": []
    },
    {
      "cell_type": "code",
      "metadata": {
        "id": "WpklwDIk2cVB",
        "colab_type": "code",
        "colab": {}
      },
      "source": [
        "def get_Max_Profit(df_list, capacity):\n",
        "    df_list = sorted(df_list, key=lambda x: x[1] / x[0], reverse=True) #??\n",
        "    details = list()\n",
        "    \n",
        "    for df in df_list:\n",
        "        if Total_Weight > Total_Weight_capacity:\n",
        "            Total_Weight = 0\n",
        "        # else:\n",
        "        #     fraction = capacity / df[0]\n",
        "        #     Total_Profit += df[1] * fraction\n",
        "        #     details.append([df[0], df[1], fraction])\n",
        "        #     break\n",
        "    return Total_Profit, details"
      ],
      "execution_count": 24,
      "outputs": []
    },
    {
      "cell_type": "code",
      "metadata": {
        "id": "9gybXacF46mS",
        "colab_type": "code",
        "colab": {}
      },
      "source": [
        "get_Max_Profit(df_list, 500)#??"
      ],
      "execution_count": null,
      "outputs": []
    },
    {
      "cell_type": "code",
      "metadata": {
        "id": "9f2j0ft6Rlup",
        "colab_type": "code",
        "colab": {}
      },
      "source": [
        ""
      ],
      "execution_count": null,
      "outputs": []
    }
  ]
}